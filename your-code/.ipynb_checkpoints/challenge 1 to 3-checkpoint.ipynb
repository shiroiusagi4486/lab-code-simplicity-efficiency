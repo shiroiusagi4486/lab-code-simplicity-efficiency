{
 "cells": [
  {
   "cell_type": "markdown",
   "metadata": {},
   "source": [
    "# Challenge 1"
   ]
  },
  {
   "cell_type": "code",
   "execution_count": 2,
   "metadata": {},
   "outputs": [
    {
     "name": "stdout",
     "output_type": "stream",
     "text": [
      "Welcome to this calculator!\n",
      "It can add and subtract whole numbers from zero to five\n"
     ]
    },
    {
     "name": "stdin",
     "output_type": "stream",
     "text": [
      "Please choose your first number (zero to five):  six\n",
      "What do you want to do? plus or minus:  plus\n",
      "Please choose your second number (zero to five):  five\n"
     ]
    },
    {
     "name": "stdout",
     "output_type": "stream",
     "text": [
      "I am not able to answer this question. Check your input.\n",
      "Thanks for using this calculator, goodbye :)\n"
     ]
    }
   ],
   "source": [
    "\"\"\"\n",
    "This is a dumb calculator that can add and subtract whole numbers from zero to five.\n",
    "When you run the code, you are prompted to enter two numbers (in the form of English\n",
    "word instead of number) and the operator sign (also in the form of English word).\n",
    "The code will perform the calculation and give the result if your input is what it\n",
    "expects.\n",
    "\n",
    "The code is very long and messy. Refactor it according to what you have learned about\n",
    "code simplicity and efficiency.\n",
    "\"\"\"\n",
    "\n",
    "print('Welcome to this calculator!')\n",
    "print('It can add and subtract whole numbers from zero to five')\n",
    "a = input('Please choose your first number (zero to five): ')\n",
    "b = input('What do you want to do? plus or minus: ')\n",
    "c = input('Please choose your second number (zero to five): ')\n",
    "\n",
    "if a == 'zero' and b == 'plus'  and c == 'zero':\n",
    "    print(\"zero plus zero equals zero\")\n",
    "if a == 'zero' and b == 'plus'  and c == 'one':\n",
    "    print(\"zero plus one equals one\")\n",
    "if a == 'zero' and b == 'plus'  and c == 'two':\n",
    "    print(\"zero plus two equals two\")\n",
    "if a == 'zero' and b == 'plus'  and c == 'three':\n",
    "    print(\"zero plus three equals three\")\n",
    "if a == 'zero' and b == 'plus'  and c == 'four':\n",
    "    print(\"zero plus four equals four\")\n",
    "if a == 'zero' and b == 'plus'  and c == 'five':\n",
    "    print(\"zero plus five equals five\")\n",
    "if a == 'one' and b == 'plus'  and c == 'zero':\n",
    "    print(\"one plus zero equals one\")\n",
    "if a == 'one' and b == 'plus'  and c == 'one':\n",
    "    print(\"one plus one equals two\")\n",
    "if a == 'one' and b == 'plus'  and c == 'two':\n",
    "    print(\"one plus two equals three\")\n",
    "if a == 'one' and b == 'plus'  and c == 'three':\n",
    "    print(\"one plus three equals four\")\n",
    "if a == 'one' and b == 'plus'  and c == 'four':\n",
    "    print(\"one plus four equals five\")\n",
    "if a == 'one' and b == 'plus'  and c == 'five':\n",
    "    print(\"one plus five equals six\")\n",
    "if a == 'two' and b == 'plus'  and c == 'zero':\n",
    "    print(\"two plus zero equals two\")\n",
    "if a == 'two' and b == 'plus'  and c == 'one':\n",
    "    print(\"two plus one equals three\")\n",
    "if a == 'two' and b == 'plus'  and c == 'two':\n",
    "    print(\"two plus two equals four\")\n",
    "if a == 'two' and b == 'plus'  and c == 'three':\n",
    "    print(\"two plus three equals five\")\n",
    "if a == 'two' and b == 'plus'  and c == 'four':\n",
    "    print(\"two plus four equals six\")\n",
    "if a == 'two' and b == 'plus'  and c == 'five':\n",
    "    print(\"two plus five equals seven\")\n",
    "if a == 'three' and b == 'plus'  and c == 'zero':\n",
    "    print(\"three plus zero equals three\")\n",
    "if a == 'three' and b == 'plus'  and c == 'one':\n",
    "    print(\"three plus one equals four\")\n",
    "if a == 'three' and b == 'plus'  and c == 'two':\n",
    "    print(\"three plus two equals five\")\n",
    "if a == 'three' and b == 'plus'  and c == 'three':\n",
    "    print(\"three plus three equals six\")\n",
    "if a == 'three' and b == 'plus'  and c == 'four':\n",
    "    print(\"three plus four equals seven\")\n",
    "if a == 'three' and b == 'plus'  and c == 'five':\n",
    "    print(\"three plus five equals eight\")\n",
    "if a == 'four' and b == 'plus'  and c == 'zero':\n",
    "    print(\"four plus zero equals four\")\n",
    "if a == 'four' and b == 'plus'  and c == 'one':\n",
    "    print(\"four plus one equals five\")\n",
    "if a == 'four' and b == 'plus'  and c == 'two':\n",
    "    print(\"four plus two equals six\")\n",
    "if a == 'four' and b == 'plus'  and c == 'three':\n",
    "    print(\"four plus three equals seven\")\n",
    "if a == 'four' and b == 'plus'  and c == 'four':\n",
    "    print(\"four plus four equals eight\")\n",
    "if a == 'four' and b == 'plus'  and c == 'five':\n",
    "    print(\"four plus five equals nine\")\n",
    "if a == 'five' and b == 'plus'  and c == 'zero':\n",
    "    print(\"five plus zero equals five\")\n",
    "if a == 'five' and b == 'plus'  and c == 'one':\n",
    "    print(\"five plus one equals six\")\n",
    "if a == 'five' and b == 'plus'  and c == 'two':\n",
    "    print(\"five plus two equals seven\")\n",
    "if a == 'five' and b == 'plus'  and c == 'three':\n",
    "    print(\"five plus three equals eight\")\n",
    "if a == 'five' and b == 'plus'  and c == 'four':\n",
    "    print(\"five plus four equals nine\")\n",
    "if a == 'five' and b == 'plus'  and c == 'five':\n",
    "    print(\"five plus five equals ten\")\n",
    "\n",
    "\n",
    "if a == 'zero' and b == 'minus' and c == 'zero':\n",
    "    print(\"zero minus zero equals zero\")\n",
    "if a == 'zero' and b == 'minus' and c == 'one':\n",
    "    print(\"zero minus one equals negative one\")\n",
    "if a == 'zero' and b == 'minus' and c == 'two':\n",
    "    print(\"zero minus two equals negative two\")\n",
    "if a == 'zero' and b == 'minus' and c == 'three':\n",
    "    print(\"zero minus three equals negative three\")\n",
    "if a == 'zero' and b == 'minus' and c == 'four':\n",
    "    print(\"zero minus four equals negative four\")\n",
    "if a == 'zero' and b == 'minus' and c == 'five':\n",
    "    print(\"zero minus five equals negative five\")\n",
    "if a == 'one' and b == 'minus' and c == 'zero':\n",
    "    print(\"one minus zero equals one\")\n",
    "if a == 'one' and b == 'minus' and c == 'one':\n",
    "    print(\"one minus one equals zero\")\n",
    "if a == 'one' and b == 'minus' and c == 'two':\n",
    "    print(\"one minus two equals negative one\")\n",
    "if a == 'one' and b == 'minus' and c == 'three':\n",
    "    print(\"one minus three equals negative three\")\n",
    "if a == 'one' and b == 'minus' and c == 'four':\n",
    "    print(\"one minus four equals negative three\")\n",
    "if a == 'one' and b == 'minus' and c == 'five':\n",
    "    print(\"one minus five equals negative four\")\n",
    "if a == 'two' and b == 'minus' and c == 'zero':\n",
    "    print(\"two minus zero equals two\")\n",
    "if a == 'two' and b == 'minus' and c == 'one':\n",
    "    print(\"two minus one equals one\")\n",
    "if a == 'two' and b == 'minus' and c == 'two':\n",
    "    print(\"two minus two equals zero\")\n",
    "if a == 'two' and b == 'minus' and c == 'three':\n",
    "    print(\"two minus three equals negative one\")\n",
    "if a == 'two' and b == 'minus' and c == 'four':\n",
    "    print(\"two minus four equals negative two\")\n",
    "if a == 'two' and b == 'minus' and c == 'five':\n",
    "    print(\"two minus five equals negative three\")\n",
    "if a == 'three' and b == 'minus' and c == 'zero':\n",
    "    print(\"three minus zero equals three\")\n",
    "if a == 'three' and b == 'minus' and c == 'one':\n",
    "    print(\"three minus one equals two\")\n",
    "if a == 'three' and b == 'minus' and c == 'two':\n",
    "    print(\"three minus two equals one\")\n",
    "if a == 'three' and b == 'minus' and c == 'three':\n",
    "    print(\"three minus three equals zero\")\n",
    "if a == 'three' and b == 'minus' and c == 'four':\n",
    "    print(\"three minus four equals negative one\")\n",
    "if a == 'three' and b == 'minus' and c == 'five':\n",
    "    print(\"three minus five equals negative two\")\n",
    "if a == 'four' and b == 'minus' and c == 'zero':\n",
    "    print(\"four minus zero equals four\")\n",
    "if a == 'four' and b == 'minus' and c == 'one':\n",
    "    print(\"four minus one equals three\")\n",
    "if a == 'four' and b == 'minus' and c == 'two':\n",
    "    print(\"four minus two equals two\")\n",
    "if a == 'four' and b == 'minus' and c == 'three':\n",
    "    print(\"four minus three equals one\")\n",
    "if a == 'four' and b == 'minus' and c == 'four':\n",
    "    print(\"four minus four equals zero\")\n",
    "if a == 'four' and b == 'minus' and c == 'five':\n",
    "    print(\"four minus five equals negative one\")\n",
    "if a == 'five' and b == 'minus' and c == 'zero':\n",
    "    print(\"five minus zero equals five\")\n",
    "if a == 'five' and b == 'minus' and c == 'one':\n",
    "    print(\"five minus one equals four\")\n",
    "if a == 'five' and b == 'minus' and c == 'two':\n",
    "    print(\"five minus two equals three\")\n",
    "if a == 'five' and b == 'minus' and c == 'three':\n",
    "    print(\"five minus three equals two\")\n",
    "if a == 'five' and b == 'minus' and c == 'four':\n",
    "    print(\"five minus four equals one\")\n",
    "if a == 'five' and b == 'minus' and c == 'five':\n",
    "    print(\"five minus five equals zero\")\n",
    "\n",
    "\n",
    "if (not a == 'zero' and not a == 'one' and not a == 'two' and not a == 'three' and not a == 'four' and not a == 'five') or (not c == 'zero' and not c == 'one' and not c == 'two' and not c == 'three' and not c == 'four' and not c == 'five') or (not b == 'plus' and not b == 'minus'):\n",
    "    print(\"I am not able to answer this question. Check your input.\")\n",
    "\n",
    "print(\"Thanks for using this calculator, goodbye :)\")"
   ]
  },
  {
   "cell_type": "code",
   "execution_count": 12,
   "metadata": {},
   "outputs": [
    {
     "name": "stdout",
     "output_type": "stream",
     "text": [
      "Welcome to this calculator!\n",
      "It can add and subtract whole numbers from zero to five\n"
     ]
    },
    {
     "name": "stdin",
     "output_type": "stream",
     "text": [
      "Please choose your first number (zero to five):  five\n",
      "What do you want to do? plus or minus:  plus\n",
      "Please choose your second number (zero to five):  five\n"
     ]
    },
    {
     "name": "stdout",
     "output_type": "stream",
     "text": [
      "10\n"
     ]
    }
   ],
   "source": [
    "numeros = {\n",
    "    'zero':0,\n",
    "    'one':1,\n",
    "    'two':2, \n",
    "    'three':3,\n",
    "    'four':4,\n",
    "    'five':5\n",
    "}\n",
    "\n",
    "def op(operation, a, b):\n",
    "    if (type(a)== str or type(b)== str)and (operation.lower() != 'plus' and operation.lower() != 'minus'):\n",
    "        print(\"I am not able to answer this question. Check your input.\")\n",
    "    elif operation.lower() == 'plus':\n",
    "        resultado = a + b\n",
    "        print (resultado)\n",
    "    else:\n",
    "        resultado = a-b\n",
    "        print(resultado)\n",
    "        \n",
    "\n",
    "print('Welcome to this calculator!')\n",
    "print('It can add and subtract whole numbers from zero to five')\n",
    "a = input('Please choose your first number (zero to five): ')\n",
    "b = input('What do you want to do? plus or minus: ')\n",
    "c = input('Please choose your second number (zero to five): ')\n",
    "\n",
    "op(b, numeros[a], numeros[c])"
   ]
  },
  {
   "cell_type": "markdown",
   "metadata": {},
   "source": [
    "# Challenge 2"
   ]
  },
  {
   "cell_type": "code",
   "execution_count": 26,
   "metadata": {},
   "outputs": [
    {
     "name": "stdin",
     "output_type": "stream",
     "text": [
      "Enter minimum string length:  9\n",
      "Enter maximum string length:  24\n",
      "How many random strings to generate?  5\n"
     ]
    },
    {
     "name": "stdout",
     "output_type": "stream",
     "text": [
      "['xp1k2yk9wfo', '7r7xcqexvb9n', 't67pwyqrijscpn', 'iwec7qzsaahgy8cz', 'hjygvkayle6e4ukpt0']\n"
     ]
    }
   ],
   "source": [
    "\"\"\"\n",
    "The code below generates a given number of random strings that consists of numbers and \n",
    "lower case English letters. You can also define the range of the variable lengths of\n",
    "the strings being generated.\n",
    "\n",
    "The code is functional but has a lot of room for improvement. Use what you have learned\n",
    "about simple and efficient code, refactor the code.\n",
    "\"\"\"\n",
    "\n",
    "def RandomStringGenerator(l=12, a=['a','b','c','d','e','f','g','h','i','j','k','l','m','n','o','p','q','r','s','t','u','v','w','x','y','z','0','1','2','3','4','5','6','7','8','9']):\n",
    "    p = 0\n",
    "    s = ''\n",
    "    while p<l:\n",
    "        import random\n",
    "        s += random.choice(a)\n",
    "        p += 1\n",
    "    return s\n",
    "\n",
    "def BatchStringGenerator(n, a=8, b=12):\n",
    "    r = []\n",
    "    for i in range(n):\n",
    "        c = None\n",
    "        if a < b:\n",
    "            import random\n",
    "            c = random.choice(range(a, b))\n",
    "        elif a == b:\n",
    "            c = a\n",
    "        else:\n",
    "            import sys\n",
    "            sys.exit('Incorrect min and max string lengths. Try again.')\n",
    "        r.append(RandomStringGenerator(c))\n",
    "    return r\n",
    "\n",
    "a = input('Enter minimum string length: ')\n",
    "b = input('Enter maximum string length: ')\n",
    "n = input('How many random strings to generate? ')\n",
    "\n",
    "print(BatchStringGenerator(int(n), int(a), int(b)))"
   ]
  },
  {
   "cell_type": "code",
   "execution_count": 28,
   "metadata": {},
   "outputs": [
    {
     "name": "stdin",
     "output_type": "stream",
     "text": [
      "Enter minimum string length:  8\n",
      "Enter maximum string length:  20\n",
      "How many random strings to generate?  9\n"
     ]
    },
    {
     "name": "stdout",
     "output_type": "stream",
     "text": [
      "['rygca69zu3b', 'vxxmmzje65awpyt', 'kkipbyv3et15z', 'nzrriekiaz79oqk200t', 'f74z6mj15e', '30mnsj67h', 'syao1ana5rh5ycwn', 'jowdmhzh5c5l061gpr', 'pc39a1hq0r12ml']\n"
     ]
    }
   ],
   "source": [
    "\"\"\"\n",
    "The code below generates a given number of random strings that consists of numbers and \n",
    "lower case English letters. You can also define the range of the variable lengths of\n",
    "the strings being generated.\n",
    "\n",
    "The code is functional but has a lot of room for improvement. Use what you have learned\n",
    "about simple and efficient code, refactor the code.\n",
    "\"\"\"\n",
    "\n",
    "#la definicion de la funcion se ha quedado igual, lo que cambie fue el interior\n",
    "def RandomStringGenerator(l=12, a=['a','b','c','d','e','f','g','h','i','j','k','l','m','n','o','p','q','r','s','t','u','v','w','x','y','z','0','1','2','3','4','5','6','7','8','9']):\n",
    "    #use una list comprenhension, para ir agregando los valores que se van tomando de la lista de letras\n",
    "    #lista = [random.choice(a) for x in range(l)]\n",
    "    return \"\".join(random.choice(a) for x in range(l))\n",
    "\n",
    "\n",
    "def BatchStringGenerator(n, a=8, b=12):\n",
    "    r = []\n",
    "    for i in range(n):\n",
    "        try:\n",
    "            c = random.choice(range(a, b+1))\n",
    "        except:\n",
    "            sys.exit('Incorrect min and max string lengths. Try again.')\n",
    "        r.append(RandomStringGenerator(c))\n",
    "    return r\n",
    "\n",
    "import random\n",
    "import sys\n",
    "a = input('Enter minimum string length: ')\n",
    "b = input('Enter maximum string length: ')\n",
    "n = input('How many random strings to generate? ')\n",
    "\n",
    "print(BatchStringGenerator(int(n), int(a), int(b)))"
   ]
  },
  {
   "cell_type": "markdown",
   "metadata": {},
   "source": [
    "# Challenge 3"
   ]
  },
  {
   "cell_type": "code",
   "execution_count": 12,
   "metadata": {},
   "outputs": [
    {
     "name": "stdin",
     "output_type": "stream",
     "text": [
      "What is the maximal length of the triangle side? Enter a number:  16\n"
     ]
    },
    {
     "name": "stdout",
     "output_type": "stream",
     "text": [
      "The longest side possible is 15\n"
     ]
    }
   ],
   "source": [
    "\"\"\"\n",
    "You are presented with an integer number larger than 5. Your goal is to identify the longest side\n",
    "possible in a right triangle whose sides are not longer than the number you are given.\n",
    "\n",
    "For example, if you are given the number 15, there are 3 possibilities to compose right triangles:\n",
    "\n",
    "1. [3, 4, 5]\n",
    "2. [6, 8, 10]\n",
    "3. [5, 12, 13]\n",
    "\n",
    "The following function shows one way to solve the problem but the code is not ideal or efficient.\n",
    "Refactor the code based on what you have learned about code simplicity and efficiency.\n",
    "\"\"\"\n",
    "\n",
    "def my_function(X):\n",
    "    solutions = []\n",
    "    for x in range(5, X):\n",
    "        for y in range(4, X):\n",
    "            for z in range(3, X):\n",
    "                if (x*x==y*y+z*z):\n",
    "\n",
    "                    solutions.append([x, y, z])\n",
    "    m = 0\n",
    "    for solution in solutions:\n",
    "        if m < max(solution):\n",
    "            m = max(solution)\n",
    "    return m\n",
    "\n",
    "X = input(\"What is the maximal length of the triangle side? Enter a number: \")\n",
    "\n",
    "print(\"The longest side possible is \" + str(my_function(int(X))))"
   ]
  },
  {
   "cell_type": "code",
   "execution_count": 21,
   "metadata": {},
   "outputs": [
    {
     "name": "stdin",
     "output_type": "stream",
     "text": [
      "What is the maximal length of the triangle side? Enter a number:  16\n"
     ]
    },
    {
     "name": "stdout",
     "output_type": "stream",
     "text": [
      "The longest side possible is  15\n"
     ]
    }
   ],
   "source": [
    "def my_function(X):\n",
    "#Hice un list comprenhention, aunque creo que no fue lo mas optimo, en especial porque al momento de agregarlo a la lista, estoy agregando una lista con listas\n",
    "    solucion = [[x,y,z] for x in range(5, X) for y in range(4, X) for z in range(3, X) if (x*x==y*y+z*z)]\n",
    "    #por lo que al momento de retornarlo, tengo que sacar el maximo del maximo y creo que esta solucion no esta taaaan cool\n",
    "    return max(max(solucion))\n",
    "\n",
    "Y = input(\"What is the maximal length of the triangle side? Enter a number: \")\n",
    "\n",
    "print(\"The longest side possible is \" , my_function(int(Y)))"
   ]
  },
  {
   "cell_type": "markdown",
   "metadata": {},
   "source": [
    "# fin del DE"
   ]
  }
 ],
 "metadata": {
  "kernelspec": {
   "display_name": "Python 3",
   "language": "python",
   "name": "python3"
  },
  "language_info": {
   "codemirror_mode": {
    "name": "ipython",
    "version": 3
   },
   "file_extension": ".py",
   "mimetype": "text/x-python",
   "name": "python",
   "nbconvert_exporter": "python",
   "pygments_lexer": "ipython3",
   "version": "3.7.0"
  }
 },
 "nbformat": 4,
 "nbformat_minor": 2
}
